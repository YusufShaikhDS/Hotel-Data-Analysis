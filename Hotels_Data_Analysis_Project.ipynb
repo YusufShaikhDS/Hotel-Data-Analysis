{
 "cells": [
  {
   "cell_type": "markdown",
   "id": "db56d6a1",
   "metadata": {},
   "source": [
    "## Hotel Data Analysis"
   ]
  },
  {
   "cell_type": "markdown",
   "id": "47085523",
   "metadata": {},
   "source": [
    "### Importing Libraries to work with Data"
   ]
  },
  {
   "cell_type": "code",
   "execution_count": 2,
   "id": "434eadfd",
   "metadata": {},
   "outputs": [],
   "source": [
    "import numpy as np\n",
    "import pandas as pd\n",
    "import matplotlib.pyplot as plt\n",
    "import seaborn as sns\n",
    "import datetime as dt"
   ]
  },
  {
   "cell_type": "code",
   "execution_count": 3,
   "id": "4f05c40e",
   "metadata": {},
   "outputs": [],
   "source": [
    "hotels = pd.read_csv(\"hotel_booking_data.csv\")"
   ]
  },
  {
   "cell_type": "code",
   "execution_count": 4,
   "id": "75846afe",
   "metadata": {},
   "outputs": [
    {
     "data": {
      "text/html": [
       "<div>\n",
       "<style scoped>\n",
       "    .dataframe tbody tr th:only-of-type {\n",
       "        vertical-align: middle;\n",
       "    }\n",
       "\n",
       "    .dataframe tbody tr th {\n",
       "        vertical-align: top;\n",
       "    }\n",
       "\n",
       "    .dataframe thead th {\n",
       "        text-align: right;\n",
       "    }\n",
       "</style>\n",
       "<table border=\"1\" class=\"dataframe\">\n",
       "  <thead>\n",
       "    <tr style=\"text-align: right;\">\n",
       "      <th></th>\n",
       "      <th>hotel</th>\n",
       "      <th>is_canceled</th>\n",
       "      <th>lead_time</th>\n",
       "      <th>arrival_date_year</th>\n",
       "      <th>arrival_date_month</th>\n",
       "      <th>arrival_date_week_number</th>\n",
       "      <th>arrival_date_day_of_month</th>\n",
       "      <th>stays_in_weekend_nights</th>\n",
       "      <th>stays_in_week_nights</th>\n",
       "      <th>adults</th>\n",
       "      <th>...</th>\n",
       "      <th>customer_type</th>\n",
       "      <th>adr</th>\n",
       "      <th>required_car_parking_spaces</th>\n",
       "      <th>total_of_special_requests</th>\n",
       "      <th>reservation_status</th>\n",
       "      <th>reservation_status_date</th>\n",
       "      <th>name</th>\n",
       "      <th>email</th>\n",
       "      <th>phone-number</th>\n",
       "      <th>credit_card</th>\n",
       "    </tr>\n",
       "  </thead>\n",
       "  <tbody>\n",
       "    <tr>\n",
       "      <th>0</th>\n",
       "      <td>Resort Hotel</td>\n",
       "      <td>0</td>\n",
       "      <td>342</td>\n",
       "      <td>2015</td>\n",
       "      <td>July</td>\n",
       "      <td>27</td>\n",
       "      <td>1</td>\n",
       "      <td>0</td>\n",
       "      <td>0</td>\n",
       "      <td>2</td>\n",
       "      <td>...</td>\n",
       "      <td>Transient</td>\n",
       "      <td>0.0</td>\n",
       "      <td>0</td>\n",
       "      <td>0</td>\n",
       "      <td>Check-Out</td>\n",
       "      <td>2015-07-01</td>\n",
       "      <td>Ernest Barnes</td>\n",
       "      <td>Ernest.Barnes31@outlook.com</td>\n",
       "      <td>669-792-1661</td>\n",
       "      <td>************4322</td>\n",
       "    </tr>\n",
       "    <tr>\n",
       "      <th>1</th>\n",
       "      <td>Resort Hotel</td>\n",
       "      <td>0</td>\n",
       "      <td>737</td>\n",
       "      <td>2015</td>\n",
       "      <td>July</td>\n",
       "      <td>27</td>\n",
       "      <td>1</td>\n",
       "      <td>0</td>\n",
       "      <td>0</td>\n",
       "      <td>2</td>\n",
       "      <td>...</td>\n",
       "      <td>Transient</td>\n",
       "      <td>0.0</td>\n",
       "      <td>0</td>\n",
       "      <td>0</td>\n",
       "      <td>Check-Out</td>\n",
       "      <td>2015-07-01</td>\n",
       "      <td>Andrea Baker</td>\n",
       "      <td>Andrea_Baker94@aol.com</td>\n",
       "      <td>858-637-6955</td>\n",
       "      <td>************9157</td>\n",
       "    </tr>\n",
       "    <tr>\n",
       "      <th>2</th>\n",
       "      <td>Resort Hotel</td>\n",
       "      <td>0</td>\n",
       "      <td>7</td>\n",
       "      <td>2015</td>\n",
       "      <td>July</td>\n",
       "      <td>27</td>\n",
       "      <td>1</td>\n",
       "      <td>0</td>\n",
       "      <td>1</td>\n",
       "      <td>1</td>\n",
       "      <td>...</td>\n",
       "      <td>Transient</td>\n",
       "      <td>75.0</td>\n",
       "      <td>0</td>\n",
       "      <td>0</td>\n",
       "      <td>Check-Out</td>\n",
       "      <td>2015-07-02</td>\n",
       "      <td>Rebecca Parker</td>\n",
       "      <td>Rebecca_Parker@comcast.net</td>\n",
       "      <td>652-885-2745</td>\n",
       "      <td>************3734</td>\n",
       "    </tr>\n",
       "    <tr>\n",
       "      <th>3</th>\n",
       "      <td>Resort Hotel</td>\n",
       "      <td>0</td>\n",
       "      <td>13</td>\n",
       "      <td>2015</td>\n",
       "      <td>July</td>\n",
       "      <td>27</td>\n",
       "      <td>1</td>\n",
       "      <td>0</td>\n",
       "      <td>1</td>\n",
       "      <td>1</td>\n",
       "      <td>...</td>\n",
       "      <td>Transient</td>\n",
       "      <td>75.0</td>\n",
       "      <td>0</td>\n",
       "      <td>0</td>\n",
       "      <td>Check-Out</td>\n",
       "      <td>2015-07-02</td>\n",
       "      <td>Laura Murray</td>\n",
       "      <td>Laura_M@gmail.com</td>\n",
       "      <td>364-656-8427</td>\n",
       "      <td>************5677</td>\n",
       "    </tr>\n",
       "    <tr>\n",
       "      <th>4</th>\n",
       "      <td>Resort Hotel</td>\n",
       "      <td>0</td>\n",
       "      <td>14</td>\n",
       "      <td>2015</td>\n",
       "      <td>July</td>\n",
       "      <td>27</td>\n",
       "      <td>1</td>\n",
       "      <td>0</td>\n",
       "      <td>2</td>\n",
       "      <td>2</td>\n",
       "      <td>...</td>\n",
       "      <td>Transient</td>\n",
       "      <td>98.0</td>\n",
       "      <td>0</td>\n",
       "      <td>1</td>\n",
       "      <td>Check-Out</td>\n",
       "      <td>2015-07-03</td>\n",
       "      <td>Linda Hines</td>\n",
       "      <td>LHines@verizon.com</td>\n",
       "      <td>713-226-5883</td>\n",
       "      <td>************5498</td>\n",
       "    </tr>\n",
       "  </tbody>\n",
       "</table>\n",
       "<p>5 rows × 36 columns</p>\n",
       "</div>"
      ],
      "text/plain": [
       "          hotel  is_canceled  lead_time  arrival_date_year arrival_date_month  \\\n",
       "0  Resort Hotel            0        342               2015               July   \n",
       "1  Resort Hotel            0        737               2015               July   \n",
       "2  Resort Hotel            0          7               2015               July   \n",
       "3  Resort Hotel            0         13               2015               July   \n",
       "4  Resort Hotel            0         14               2015               July   \n",
       "\n",
       "   arrival_date_week_number  arrival_date_day_of_month  \\\n",
       "0                        27                          1   \n",
       "1                        27                          1   \n",
       "2                        27                          1   \n",
       "3                        27                          1   \n",
       "4                        27                          1   \n",
       "\n",
       "   stays_in_weekend_nights  stays_in_week_nights  adults  ...  customer_type  \\\n",
       "0                        0                     0       2  ...      Transient   \n",
       "1                        0                     0       2  ...      Transient   \n",
       "2                        0                     1       1  ...      Transient   \n",
       "3                        0                     1       1  ...      Transient   \n",
       "4                        0                     2       2  ...      Transient   \n",
       "\n",
       "    adr required_car_parking_spaces total_of_special_requests  \\\n",
       "0   0.0                           0                         0   \n",
       "1   0.0                           0                         0   \n",
       "2  75.0                           0                         0   \n",
       "3  75.0                           0                         0   \n",
       "4  98.0                           0                         1   \n",
       "\n",
       "  reservation_status reservation_status_date            name  \\\n",
       "0          Check-Out              2015-07-01   Ernest Barnes   \n",
       "1          Check-Out              2015-07-01    Andrea Baker   \n",
       "2          Check-Out              2015-07-02  Rebecca Parker   \n",
       "3          Check-Out              2015-07-02    Laura Murray   \n",
       "4          Check-Out              2015-07-03     Linda Hines   \n",
       "\n",
       "                         email  phone-number       credit_card  \n",
       "0  Ernest.Barnes31@outlook.com  669-792-1661  ************4322  \n",
       "1       Andrea_Baker94@aol.com  858-637-6955  ************9157  \n",
       "2   Rebecca_Parker@comcast.net  652-885-2745  ************3734  \n",
       "3            Laura_M@gmail.com  364-656-8427  ************5677  \n",
       "4           LHines@verizon.com  713-226-5883  ************5498  \n",
       "\n",
       "[5 rows x 36 columns]"
      ]
     },
     "execution_count": 4,
     "metadata": {},
     "output_type": "execute_result"
    }
   ],
   "source": [
    "hotels.head()"
   ]
  },
  {
   "cell_type": "code",
   "execution_count": 5,
   "id": "8338eaf2",
   "metadata": {},
   "outputs": [
    {
     "name": "stdout",
     "output_type": "stream",
     "text": [
      "<class 'pandas.core.frame.DataFrame'>\n",
      "RangeIndex: 119390 entries, 0 to 119389\n",
      "Data columns (total 36 columns):\n",
      " #   Column                          Non-Null Count   Dtype  \n",
      "---  ------                          --------------   -----  \n",
      " 0   hotel                           119390 non-null  object \n",
      " 1   is_canceled                     119390 non-null  int64  \n",
      " 2   lead_time                       119390 non-null  int64  \n",
      " 3   arrival_date_year               119390 non-null  int64  \n",
      " 4   arrival_date_month              119390 non-null  object \n",
      " 5   arrival_date_week_number        119390 non-null  int64  \n",
      " 6   arrival_date_day_of_month       119390 non-null  int64  \n",
      " 7   stays_in_weekend_nights         119390 non-null  int64  \n",
      " 8   stays_in_week_nights            119390 non-null  int64  \n",
      " 9   adults                          119390 non-null  int64  \n",
      " 10  children                        119386 non-null  float64\n",
      " 11  babies                          119390 non-null  int64  \n",
      " 12  meal                            119390 non-null  object \n",
      " 13  country                         118902 non-null  object \n",
      " 14  market_segment                  119390 non-null  object \n",
      " 15  distribution_channel            119390 non-null  object \n",
      " 16  is_repeated_guest               119390 non-null  int64  \n",
      " 17  previous_cancellations          119390 non-null  int64  \n",
      " 18  previous_bookings_not_canceled  119390 non-null  int64  \n",
      " 19  reserved_room_type              119390 non-null  object \n",
      " 20  assigned_room_type              119390 non-null  object \n",
      " 21  booking_changes                 119390 non-null  int64  \n",
      " 22  deposit_type                    119390 non-null  object \n",
      " 23  agent                           103050 non-null  float64\n",
      " 24  company                         6797 non-null    float64\n",
      " 25  days_in_waiting_list            119390 non-null  int64  \n",
      " 26  customer_type                   119390 non-null  object \n",
      " 27  adr                             119390 non-null  float64\n",
      " 28  required_car_parking_spaces     119390 non-null  int64  \n",
      " 29  total_of_special_requests       119390 non-null  int64  \n",
      " 30  reservation_status              119390 non-null  object \n",
      " 31  reservation_status_date         119390 non-null  object \n",
      " 32  name                            119390 non-null  object \n",
      " 33  email                           119390 non-null  object \n",
      " 34  phone-number                    119390 non-null  object \n",
      " 35  credit_card                     119390 non-null  object \n",
      "dtypes: float64(4), int64(16), object(16)\n",
      "memory usage: 32.8+ MB\n"
     ]
    }
   ],
   "source": [
    "hotels.info()"
   ]
  },
  {
   "cell_type": "markdown",
   "id": "e05c4464",
   "metadata": {},
   "source": [
    "### How many rows & columns are there."
   ]
  },
  {
   "cell_type": "code",
   "execution_count": 6,
   "id": "8b233377",
   "metadata": {},
   "outputs": [
    {
     "data": {
      "text/plain": [
       "119390"
      ]
     },
     "execution_count": 6,
     "metadata": {},
     "output_type": "execute_result"
    }
   ],
   "source": [
    "len(hotels)"
   ]
  },
  {
   "cell_type": "code",
   "execution_count": 7,
   "id": "083fdd3d",
   "metadata": {},
   "outputs": [
    {
     "data": {
      "text/plain": [
       "36"
      ]
     },
     "execution_count": 7,
     "metadata": {},
     "output_type": "execute_result"
    }
   ],
   "source": [
    "len(hotels.columns)"
   ]
  },
  {
   "cell_type": "markdown",
   "id": "d11316ee",
   "metadata": {},
   "source": [
    "### Taking a look at missing data in the dataset."
   ]
  },
  {
   "cell_type": "code",
   "execution_count": 8,
   "id": "f4ec0b66",
   "metadata": {},
   "outputs": [
    {
     "data": {
      "text/plain": [
       "hotel                                  0\n",
       "is_canceled                            0\n",
       "lead_time                              0\n",
       "arrival_date_year                      0\n",
       "arrival_date_month                     0\n",
       "arrival_date_week_number               0\n",
       "arrival_date_day_of_month              0\n",
       "stays_in_weekend_nights                0\n",
       "stays_in_week_nights                   0\n",
       "adults                                 0\n",
       "children                               4\n",
       "babies                                 0\n",
       "meal                                   0\n",
       "country                              488\n",
       "market_segment                         0\n",
       "distribution_channel                   0\n",
       "is_repeated_guest                      0\n",
       "previous_cancellations                 0\n",
       "previous_bookings_not_canceled         0\n",
       "reserved_room_type                     0\n",
       "assigned_room_type                     0\n",
       "booking_changes                        0\n",
       "deposit_type                           0\n",
       "agent                              16340\n",
       "company                           112593\n",
       "days_in_waiting_list                   0\n",
       "customer_type                          0\n",
       "adr                                    0\n",
       "required_car_parking_spaces            0\n",
       "total_of_special_requests              0\n",
       "reservation_status                     0\n",
       "reservation_status_date                0\n",
       "name                                   0\n",
       "email                                  0\n",
       "phone-number                           0\n",
       "credit_card                            0\n",
       "dtype: int64"
      ]
     },
     "execution_count": 8,
     "metadata": {},
     "output_type": "execute_result"
    }
   ],
   "source": [
    "hotels.isna().sum()\n",
    "#Company column has the most missing data."
   ]
  },
  {
   "cell_type": "markdown",
   "id": "61249300",
   "metadata": {},
   "source": [
    "### Removing 'company' column as it contains too many null values.\n"
   ]
  },
  {
   "cell_type": "code",
   "execution_count": 9,
   "id": "1756d20a",
   "metadata": {},
   "outputs": [],
   "source": [
    "hotels.drop(\"company\",axis=1,inplace=True)"
   ]
  },
  {
   "cell_type": "markdown",
   "id": "9b556eb0",
   "metadata": {},
   "source": [
    "### 🌍 Analyzing Top 5 Countries with Highest Number of Bookings."
   ]
  },
  {
   "cell_type": "code",
   "execution_count": 10,
   "id": "4509c8de",
   "metadata": {},
   "outputs": [
    {
     "data": {
      "text/plain": [
       "PRT    48590\n",
       "GBR    12129\n",
       "FRA    10415\n",
       "ESP     8568\n",
       "DEU     7287\n",
       "Name: country, dtype: int64"
      ]
     },
     "execution_count": 10,
     "metadata": {},
     "output_type": "execute_result"
    }
   ],
   "source": [
    "hotels['country'].value_counts()[:5]\n",
    "#PRT,GBR,FRA,ESP,DEU are the 5 most common country codes"
   ]
  },
  {
   "cell_type": "markdown",
   "id": "f8932094",
   "metadata": {},
   "source": [
    "### Finding the name of the customer who paid the highest ADR, also what was the ADR."
   ]
  },
  {
   "cell_type": "code",
   "execution_count": 11,
   "id": "175ae5ac",
   "metadata": {},
   "outputs": [
    {
     "data": {
      "text/html": [
       "<div>\n",
       "<style scoped>\n",
       "    .dataframe tbody tr th:only-of-type {\n",
       "        vertical-align: middle;\n",
       "    }\n",
       "\n",
       "    .dataframe tbody tr th {\n",
       "        vertical-align: top;\n",
       "    }\n",
       "\n",
       "    .dataframe thead th {\n",
       "        text-align: right;\n",
       "    }\n",
       "</style>\n",
       "<table border=\"1\" class=\"dataframe\">\n",
       "  <thead>\n",
       "    <tr style=\"text-align: right;\">\n",
       "      <th></th>\n",
       "      <th>adr</th>\n",
       "      <th>name</th>\n",
       "    </tr>\n",
       "  </thead>\n",
       "  <tbody>\n",
       "    <tr>\n",
       "      <th>48515</th>\n",
       "      <td>5400.0</td>\n",
       "      <td>Daniel Walter</td>\n",
       "    </tr>\n",
       "  </tbody>\n",
       "</table>\n",
       "</div>"
      ],
      "text/plain": [
       "          adr           name\n",
       "48515  5400.0  Daniel Walter"
      ]
     },
     "execution_count": 11,
     "metadata": {},
     "output_type": "execute_result"
    }
   ],
   "source": [
    "#2 different ways to get the answer.\n",
    "hotels[hotels['adr']==hotels['adr'].max()][['adr','name']]\n",
    "\n",
    "hotels.sort_values('adr',ascending=False)[:1][['adr','name']]"
   ]
  },
  {
   "cell_type": "markdown",
   "id": "8b7b91dd",
   "metadata": {},
   "source": [
    "### Finding the mean ADR across all the hotel stays in the dataset."
   ]
  },
  {
   "cell_type": "code",
   "execution_count": 12,
   "id": "b4ae8d11",
   "metadata": {},
   "outputs": [
    {
     "data": {
      "text/plain": [
       "101.83"
      ]
     },
     "execution_count": 12,
     "metadata": {},
     "output_type": "execute_result"
    }
   ],
   "source": [
    "round(hotels['adr'].mean(),2)"
   ]
  },
  {
   "cell_type": "markdown",
   "id": "83a198e6",
   "metadata": {},
   "source": [
    "### 🛏️ Average Number of Nights per Stay."
   ]
  },
  {
   "cell_type": "code",
   "execution_count": 13,
   "id": "2b939373",
   "metadata": {},
   "outputs": [
    {
     "data": {
      "text/plain": [
       "3.43"
      ]
     },
     "execution_count": 13,
     "metadata": {},
     "output_type": "execute_result"
    }
   ],
   "source": [
    "hotels['nights_stayed'] = hotels['stays_in_week_nights'] + hotels['stays_in_weekend_nights']\n",
    "round(hotels['nights_stayed'].mean(),2)"
   ]
  },
  {
   "cell_type": "markdown",
   "id": "5a7b5d95",
   "metadata": {},
   "source": [
    "### Calculating Average Total Cost per Stay Across All Bookings."
   ]
  },
  {
   "cell_type": "code",
   "execution_count": 14,
   "id": "2333eca5",
   "metadata": {},
   "outputs": [
    {
     "data": {
      "text/plain": [
       "357.85"
      ]
     },
     "execution_count": 14,
     "metadata": {},
     "output_type": "execute_result"
    }
   ],
   "source": [
    "hotels['total_spend'] = hotels['adr'] * hotels['nights_stayed']\n",
    "round(hotels['total_spend'].mean(),2)"
   ]
  },
  {
   "cell_type": "markdown",
   "id": "ee7548ce",
   "metadata": {},
   "source": [
    "### 🎯Retrieving Guests with Exactly 5 Special Requests."
   ]
  },
  {
   "cell_type": "code",
   "execution_count": 15,
   "id": "15727987",
   "metadata": {},
   "outputs": [
    {
     "data": {
      "text/html": [
       "<div>\n",
       "<style scoped>\n",
       "    .dataframe tbody tr th:only-of-type {\n",
       "        vertical-align: middle;\n",
       "    }\n",
       "\n",
       "    .dataframe tbody tr th {\n",
       "        vertical-align: top;\n",
       "    }\n",
       "\n",
       "    .dataframe thead th {\n",
       "        text-align: right;\n",
       "    }\n",
       "</style>\n",
       "<table border=\"1\" class=\"dataframe\">\n",
       "  <thead>\n",
       "    <tr style=\"text-align: right;\">\n",
       "      <th></th>\n",
       "      <th>name</th>\n",
       "      <th>email</th>\n",
       "      <th>total_of_special_requests</th>\n",
       "    </tr>\n",
       "  </thead>\n",
       "  <tbody>\n",
       "    <tr>\n",
       "      <th>7860</th>\n",
       "      <td>Amanda Harper</td>\n",
       "      <td>Amanda.H66@yahoo.com</td>\n",
       "      <td>5</td>\n",
       "    </tr>\n",
       "    <tr>\n",
       "      <th>11125</th>\n",
       "      <td>Laura Sanders</td>\n",
       "      <td>Sanders_Laura@hotmail.com</td>\n",
       "      <td>5</td>\n",
       "    </tr>\n",
       "    <tr>\n",
       "      <th>14596</th>\n",
       "      <td>Tommy Ortiz</td>\n",
       "      <td>Tommy_O@hotmail.com</td>\n",
       "      <td>5</td>\n",
       "    </tr>\n",
       "    <tr>\n",
       "      <th>14921</th>\n",
       "      <td>Gilbert Miller</td>\n",
       "      <td>Miller.Gilbert@aol.com</td>\n",
       "      <td>5</td>\n",
       "    </tr>\n",
       "    <tr>\n",
       "      <th>14922</th>\n",
       "      <td>Timothy Torres</td>\n",
       "      <td>TTorres@protonmail.com</td>\n",
       "      <td>5</td>\n",
       "    </tr>\n",
       "    <tr>\n",
       "      <th>24630</th>\n",
       "      <td>Jennifer Weaver</td>\n",
       "      <td>Jennifer_W@aol.com</td>\n",
       "      <td>5</td>\n",
       "    </tr>\n",
       "    <tr>\n",
       "      <th>27288</th>\n",
       "      <td>Crystal Horton</td>\n",
       "      <td>Crystal.H@mail.com</td>\n",
       "      <td>5</td>\n",
       "    </tr>\n",
       "    <tr>\n",
       "      <th>27477</th>\n",
       "      <td>Brittney Burke</td>\n",
       "      <td>Burke_Brittney16@att.com</td>\n",
       "      <td>5</td>\n",
       "    </tr>\n",
       "    <tr>\n",
       "      <th>29906</th>\n",
       "      <td>Cynthia Cabrera</td>\n",
       "      <td>Cabrera.Cynthia@xfinity.com</td>\n",
       "      <td>5</td>\n",
       "    </tr>\n",
       "    <tr>\n",
       "      <th>29949</th>\n",
       "      <td>Sarah Floyd</td>\n",
       "      <td>Sarah_F@gmail.com</td>\n",
       "      <td>5</td>\n",
       "    </tr>\n",
       "    <tr>\n",
       "      <th>32267</th>\n",
       "      <td>Michelle Villa</td>\n",
       "      <td>Michelle.Villa@aol.com</td>\n",
       "      <td>5</td>\n",
       "    </tr>\n",
       "    <tr>\n",
       "      <th>39027</th>\n",
       "      <td>Nichole Hebert</td>\n",
       "      <td>Hebert.Nichole@gmail.com</td>\n",
       "      <td>5</td>\n",
       "    </tr>\n",
       "    <tr>\n",
       "      <th>39129</th>\n",
       "      <td>Lindsey Mckenzie</td>\n",
       "      <td>Lindsey.Mckenzie@att.com</td>\n",
       "      <td>5</td>\n",
       "    </tr>\n",
       "    <tr>\n",
       "      <th>39525</th>\n",
       "      <td>Ashley Edwards</td>\n",
       "      <td>Edwards.Ashley@yahoo.com</td>\n",
       "      <td>5</td>\n",
       "    </tr>\n",
       "    <tr>\n",
       "      <th>70114</th>\n",
       "      <td>Christopher Torres</td>\n",
       "      <td>Torres.Christopher@gmail.com</td>\n",
       "      <td>5</td>\n",
       "    </tr>\n",
       "    <tr>\n",
       "      <th>78819</th>\n",
       "      <td>Mrs. Tara Sullivan DVM</td>\n",
       "      <td>Mrs..DVM@xfinity.com</td>\n",
       "      <td>5</td>\n",
       "    </tr>\n",
       "    <tr>\n",
       "      <th>78820</th>\n",
       "      <td>Michaela Brown</td>\n",
       "      <td>MichaelaBrown@att.com</td>\n",
       "      <td>5</td>\n",
       "    </tr>\n",
       "    <tr>\n",
       "      <th>78822</th>\n",
       "      <td>Kurt Maldonado MD</td>\n",
       "      <td>KMD15@xfinity.com</td>\n",
       "      <td>5</td>\n",
       "    </tr>\n",
       "    <tr>\n",
       "      <th>97072</th>\n",
       "      <td>Jason Richardson</td>\n",
       "      <td>Jason.R@zoho.com</td>\n",
       "      <td>5</td>\n",
       "    </tr>\n",
       "    <tr>\n",
       "      <th>97099</th>\n",
       "      <td>Terri Hurley</td>\n",
       "      <td>THurley@xfinity.com</td>\n",
       "      <td>5</td>\n",
       "    </tr>\n",
       "    <tr>\n",
       "      <th>97261</th>\n",
       "      <td>Mrs. Caitlin Webb</td>\n",
       "      <td>Mrs._W@comcast.net</td>\n",
       "      <td>5</td>\n",
       "    </tr>\n",
       "    <tr>\n",
       "      <th>98410</th>\n",
       "      <td>Holly Arroyo</td>\n",
       "      <td>Arroyo_Holly@mail.com</td>\n",
       "      <td>5</td>\n",
       "    </tr>\n",
       "    <tr>\n",
       "      <th>98674</th>\n",
       "      <td>Denise Campbell</td>\n",
       "      <td>Denise_C@gmail.com</td>\n",
       "      <td>5</td>\n",
       "    </tr>\n",
       "    <tr>\n",
       "      <th>99887</th>\n",
       "      <td>Michael Smith</td>\n",
       "      <td>Michael.S42@aol.com</td>\n",
       "      <td>5</td>\n",
       "    </tr>\n",
       "    <tr>\n",
       "      <th>99888</th>\n",
       "      <td>Dr. Trevor Sellers</td>\n",
       "      <td>Dr._S@aol.com</td>\n",
       "      <td>5</td>\n",
       "    </tr>\n",
       "    <tr>\n",
       "      <th>101569</th>\n",
       "      <td>Kayla Murphy</td>\n",
       "      <td>Kayla.Murphy@yahoo.com</td>\n",
       "      <td>5</td>\n",
       "    </tr>\n",
       "    <tr>\n",
       "      <th>102061</th>\n",
       "      <td>Taylor Martinez</td>\n",
       "      <td>Taylor.Martinez@hotmail.com</td>\n",
       "      <td>5</td>\n",
       "    </tr>\n",
       "    <tr>\n",
       "      <th>109511</th>\n",
       "      <td>Charles Wilson</td>\n",
       "      <td>Charles_Wilson@yahoo.com</td>\n",
       "      <td>5</td>\n",
       "    </tr>\n",
       "    <tr>\n",
       "      <th>109590</th>\n",
       "      <td>Tyler Allison</td>\n",
       "      <td>Tyler.A@protonmail.com</td>\n",
       "      <td>5</td>\n",
       "    </tr>\n",
       "    <tr>\n",
       "      <th>110082</th>\n",
       "      <td>Matthew Bailey</td>\n",
       "      <td>Matthew_Bailey@aol.com</td>\n",
       "      <td>5</td>\n",
       "    </tr>\n",
       "    <tr>\n",
       "      <th>110083</th>\n",
       "      <td>Charlotte Acevedo</td>\n",
       "      <td>Charlotte_A@verizon.com</td>\n",
       "      <td>5</td>\n",
       "    </tr>\n",
       "    <tr>\n",
       "      <th>111909</th>\n",
       "      <td>Darrell Brennan</td>\n",
       "      <td>Brennan_Darrell51@hotmail.com</td>\n",
       "      <td>5</td>\n",
       "    </tr>\n",
       "    <tr>\n",
       "      <th>111911</th>\n",
       "      <td>Melinda Jensen</td>\n",
       "      <td>MelindaJensen@zoho.com</td>\n",
       "      <td>5</td>\n",
       "    </tr>\n",
       "    <tr>\n",
       "      <th>113915</th>\n",
       "      <td>Terry Arnold</td>\n",
       "      <td>Arnold.Terry@zoho.com</td>\n",
       "      <td>5</td>\n",
       "    </tr>\n",
       "    <tr>\n",
       "      <th>114770</th>\n",
       "      <td>Mary Nguyen</td>\n",
       "      <td>Nguyen.Mary@protonmail.com</td>\n",
       "      <td>5</td>\n",
       "    </tr>\n",
       "    <tr>\n",
       "      <th>114909</th>\n",
       "      <td>Lindsay Cuevas</td>\n",
       "      <td>Lindsay.Cuevas40@mail.com</td>\n",
       "      <td>5</td>\n",
       "    </tr>\n",
       "    <tr>\n",
       "      <th>116455</th>\n",
       "      <td>Cynthia Hernandez</td>\n",
       "      <td>CynthiaHernandez@xfinity.com</td>\n",
       "      <td>5</td>\n",
       "    </tr>\n",
       "    <tr>\n",
       "      <th>116457</th>\n",
       "      <td>Angela Hawkins</td>\n",
       "      <td>Angela_H@gmail.com</td>\n",
       "      <td>5</td>\n",
       "    </tr>\n",
       "    <tr>\n",
       "      <th>118817</th>\n",
       "      <td>Sue Lawson</td>\n",
       "      <td>Sue.L52@comcast.net</td>\n",
       "      <td>5</td>\n",
       "    </tr>\n",
       "    <tr>\n",
       "      <th>119161</th>\n",
       "      <td>Alyssa Richards</td>\n",
       "      <td>Alyssa_Richards@aol.com</td>\n",
       "      <td>5</td>\n",
       "    </tr>\n",
       "  </tbody>\n",
       "</table>\n",
       "</div>"
      ],
      "text/plain": [
       "                          name                          email  \\\n",
       "7860             Amanda Harper           Amanda.H66@yahoo.com   \n",
       "11125            Laura Sanders      Sanders_Laura@hotmail.com   \n",
       "14596              Tommy Ortiz            Tommy_O@hotmail.com   \n",
       "14921           Gilbert Miller         Miller.Gilbert@aol.com   \n",
       "14922           Timothy Torres         TTorres@protonmail.com   \n",
       "24630          Jennifer Weaver             Jennifer_W@aol.com   \n",
       "27288           Crystal Horton             Crystal.H@mail.com   \n",
       "27477           Brittney Burke       Burke_Brittney16@att.com   \n",
       "29906          Cynthia Cabrera    Cabrera.Cynthia@xfinity.com   \n",
       "29949              Sarah Floyd              Sarah_F@gmail.com   \n",
       "32267           Michelle Villa         Michelle.Villa@aol.com   \n",
       "39027           Nichole Hebert       Hebert.Nichole@gmail.com   \n",
       "39129         Lindsey Mckenzie       Lindsey.Mckenzie@att.com   \n",
       "39525           Ashley Edwards       Edwards.Ashley@yahoo.com   \n",
       "70114       Christopher Torres   Torres.Christopher@gmail.com   \n",
       "78819   Mrs. Tara Sullivan DVM           Mrs..DVM@xfinity.com   \n",
       "78820           Michaela Brown          MichaelaBrown@att.com   \n",
       "78822        Kurt Maldonado MD              KMD15@xfinity.com   \n",
       "97072         Jason Richardson               Jason.R@zoho.com   \n",
       "97099             Terri Hurley            THurley@xfinity.com   \n",
       "97261        Mrs. Caitlin Webb             Mrs._W@comcast.net   \n",
       "98410             Holly Arroyo          Arroyo_Holly@mail.com   \n",
       "98674          Denise Campbell             Denise_C@gmail.com   \n",
       "99887            Michael Smith            Michael.S42@aol.com   \n",
       "99888       Dr. Trevor Sellers                  Dr._S@aol.com   \n",
       "101569            Kayla Murphy         Kayla.Murphy@yahoo.com   \n",
       "102061         Taylor Martinez    Taylor.Martinez@hotmail.com   \n",
       "109511          Charles Wilson       Charles_Wilson@yahoo.com   \n",
       "109590           Tyler Allison         Tyler.A@protonmail.com   \n",
       "110082          Matthew Bailey         Matthew_Bailey@aol.com   \n",
       "110083       Charlotte Acevedo        Charlotte_A@verizon.com   \n",
       "111909         Darrell Brennan  Brennan_Darrell51@hotmail.com   \n",
       "111911          Melinda Jensen         MelindaJensen@zoho.com   \n",
       "113915            Terry Arnold          Arnold.Terry@zoho.com   \n",
       "114770             Mary Nguyen     Nguyen.Mary@protonmail.com   \n",
       "114909          Lindsay Cuevas      Lindsay.Cuevas40@mail.com   \n",
       "116455       Cynthia Hernandez   CynthiaHernandez@xfinity.com   \n",
       "116457          Angela Hawkins             Angela_H@gmail.com   \n",
       "118817              Sue Lawson            Sue.L52@comcast.net   \n",
       "119161         Alyssa Richards        Alyssa_Richards@aol.com   \n",
       "\n",
       "        total_of_special_requests  \n",
       "7860                            5  \n",
       "11125                           5  \n",
       "14596                           5  \n",
       "14921                           5  \n",
       "14922                           5  \n",
       "24630                           5  \n",
       "27288                           5  \n",
       "27477                           5  \n",
       "29906                           5  \n",
       "29949                           5  \n",
       "32267                           5  \n",
       "39027                           5  \n",
       "39129                           5  \n",
       "39525                           5  \n",
       "70114                           5  \n",
       "78819                           5  \n",
       "78820                           5  \n",
       "78822                           5  \n",
       "97072                           5  \n",
       "97099                           5  \n",
       "97261                           5  \n",
       "98410                           5  \n",
       "98674                           5  \n",
       "99887                           5  \n",
       "99888                           5  \n",
       "101569                          5  \n",
       "102061                          5  \n",
       "109511                          5  \n",
       "109590                          5  \n",
       "110082                          5  \n",
       "110083                          5  \n",
       "111909                          5  \n",
       "111911                          5  \n",
       "113915                          5  \n",
       "114770                          5  \n",
       "114909                          5  \n",
       "116455                          5  \n",
       "116457                          5  \n",
       "118817                          5  \n",
       "119161                          5  "
      ]
     },
     "execution_count": 15,
     "metadata": {},
     "output_type": "execute_result"
    }
   ],
   "source": [
    "hotels[hotels['total_of_special_requests']==5][['name','email','total_of_special_requests']]"
   ]
  },
  {
   "cell_type": "markdown",
   "id": "1bf6237c",
   "metadata": {},
   "source": [
    "### 🔁Calculating Percentage of Repeat Guests."
   ]
  },
  {
   "cell_type": "code",
   "execution_count": 16,
   "id": "2d686385",
   "metadata": {},
   "outputs": [
    {
     "data": {
      "text/plain": [
       "3.19"
      ]
     },
     "execution_count": 16,
     "metadata": {},
     "output_type": "execute_result"
    }
   ],
   "source": [
    "round((hotels['is_repeated_guest'].sum()/len(hotels))*100,2)"
   ]
  },
  {
   "cell_type": "markdown",
   "id": "e868dd4a",
   "metadata": {},
   "source": [
    "### 👥 Most Frequent Guest Last Names (Top 5)."
   ]
  },
  {
   "cell_type": "code",
   "execution_count": 17,
   "id": "6a466267",
   "metadata": {},
   "outputs": [
    {
     "data": {
      "text/plain": [
       "Smith       2503\n",
       "Johnson     1990\n",
       "Williams    1618\n",
       "Jones       1434\n",
       "Brown       1423\n",
       "Name: Last Name, dtype: int64"
      ]
     },
     "execution_count": 17,
     "metadata": {},
     "output_type": "execute_result"
    }
   ],
   "source": [
    "hotels['Last Name'] = hotels['name'].str.split().str[-1]\n",
    "hotels['Last Name'].value_counts()[:5]\n",
    "#Single Line Code : hotels['name'].apply(lambda name: name.split()[-1]).value_counts().head()"
   ]
  },
  {
   "cell_type": "markdown",
   "id": "5eea1c1e",
   "metadata": {},
   "source": [
    "### 👶 Identifying Guests Booking the Most Children and Babies.\n"
   ]
  },
  {
   "cell_type": "code",
   "execution_count": 18,
   "id": "04df8e1d",
   "metadata": {},
   "outputs": [],
   "source": [
    "\n",
    "def total_kid(children,babies):\n",
    "    return children + babies\n",
    "\n",
    "hotels['total_kids'] = np.vectorize(total_kid)(hotels['children'],hotels['babies'])"
   ]
  },
  {
   "cell_type": "code",
   "execution_count": 19,
   "id": "ee91589b",
   "metadata": {},
   "outputs": [
    {
     "data": {
      "text/html": [
       "<div>\n",
       "<style scoped>\n",
       "    .dataframe tbody tr th:only-of-type {\n",
       "        vertical-align: middle;\n",
       "    }\n",
       "\n",
       "    .dataframe tbody tr th {\n",
       "        vertical-align: top;\n",
       "    }\n",
       "\n",
       "    .dataframe thead th {\n",
       "        text-align: right;\n",
       "    }\n",
       "</style>\n",
       "<table border=\"1\" class=\"dataframe\">\n",
       "  <thead>\n",
       "    <tr style=\"text-align: right;\">\n",
       "      <th></th>\n",
       "      <th>name</th>\n",
       "      <th>total_kids</th>\n",
       "      <th>children</th>\n",
       "      <th>babies</th>\n",
       "    </tr>\n",
       "  </thead>\n",
       "  <tbody>\n",
       "    <tr>\n",
       "      <th>328</th>\n",
       "      <td>Jamie Ramirez</td>\n",
       "      <td>10.0</td>\n",
       "      <td>10.0</td>\n",
       "      <td>0</td>\n",
       "    </tr>\n",
       "    <tr>\n",
       "      <th>46619</th>\n",
       "      <td>Nicholas Parker</td>\n",
       "      <td>10.0</td>\n",
       "      <td>0.0</td>\n",
       "      <td>10</td>\n",
       "    </tr>\n",
       "    <tr>\n",
       "      <th>78656</th>\n",
       "      <td>Marc Robinson</td>\n",
       "      <td>9.0</td>\n",
       "      <td>0.0</td>\n",
       "      <td>9</td>\n",
       "    </tr>\n",
       "  </tbody>\n",
       "</table>\n",
       "</div>"
      ],
      "text/plain": [
       "                  name  total_kids  children  babies\n",
       "328      Jamie Ramirez        10.0      10.0       0\n",
       "46619  Nicholas Parker        10.0       0.0      10\n",
       "78656    Marc Robinson         9.0       0.0       9"
      ]
     },
     "execution_count": 19,
     "metadata": {},
     "output_type": "execute_result"
    }
   ],
   "source": [
    "hotels.sort_values('total_kids',ascending=False).head(3)[['name','total_kids','children','babies']]"
   ]
  },
  {
   "cell_type": "markdown",
   "id": "5287506d",
   "metadata": {},
   "source": [
    "### 📞 Most Frequent Phone Number Area Codes (Top 3)."
   ]
  },
  {
   "cell_type": "code",
   "execution_count": 20,
   "id": "7863270a",
   "metadata": {},
   "outputs": [
    {
     "data": {
      "text/plain": [
       "799    168\n",
       "185    167\n",
       "541    166\n",
       "Name: phone-number, dtype: int64"
      ]
     },
     "execution_count": 20,
     "metadata": {},
     "output_type": "execute_result"
    }
   ],
   "source": [
    "hotels['phone-number'].str[:3].value_counts().head(3)"
   ]
  },
  {
   "cell_type": "markdown",
   "id": "82c8627f",
   "metadata": {},
   "source": [
    "### 📅 Number of Hotel Arrivals in the First Half of the Month."
   ]
  },
  {
   "cell_type": "code",
   "execution_count": 21,
   "id": "135151da",
   "metadata": {},
   "outputs": [
    {
     "data": {
      "text/plain": [
       "58152"
      ]
     },
     "execution_count": 21,
     "metadata": {},
     "output_type": "execute_result"
    }
   ],
   "source": [
    "len(hotels[(hotels['arrival_date_day_of_month'] >= 1) & (hotels['arrival_date_day_of_month'] <=15)])\n",
    "#ALternate way : len(hotels[hotels['arrival_date_day_of_month'].between(1,15)])"
   ]
  },
  {
   "cell_type": "markdown",
   "id": "4bb81407",
   "metadata": {},
   "source": [
    "### 📊 Number of Hotel Arrivals for Each Day of the Week."
   ]
  },
  {
   "cell_type": "code",
   "execution_count": 22,
   "id": "79a0e01a",
   "metadata": {},
   "outputs": [],
   "source": [
    "def date_convert(day,month,year):\n",
    "    return f\"{day}-{month}-{year}\""
   ]
  },
  {
   "cell_type": "code",
   "execution_count": 23,
   "id": "8175ac98",
   "metadata": {},
   "outputs": [],
   "source": [
    "hotels['date'] = np.vectorize(date_convert)(hotels['arrival_date_day_of_month'],hotels['arrival_date_month'],hotels['arrival_date_year'])"
   ]
  },
  {
   "cell_type": "code",
   "execution_count": 32,
   "id": "9fa7a831",
   "metadata": {},
   "outputs": [
    {
     "data": {
      "image/png": "[encoded data removed]",
      "text/plain": [
       "<Figure size 640x480 with 1 Axes>"
      ]
     },
     "metadata": {},
     "output_type": "display_data"
    }
   ],
   "source": [
    "hotels['date'] = pd.to_datetime(hotels['date'])\n",
    "week_day_counts = hotels['date'].dt.day_name().value_counts()\n",
    "plt.figure()\n",
    "week_day_counts.plot(kind=\"bar\")\n",
    "plt.xlabel('Week_day')\n",
    "plt.ylabel(\"No_of_Bookings\")\n",
    "plt.title(\"Number of Bookings By Each Day Of Weak\")\n",
    "plt.show()"
   ]
  },
  {
   "cell_type": "markdown",
   "id": "7708e289",
   "metadata": {},
   "source": [
    "## Advance Analysis"
   ]
  },
  {
   "cell_type": "markdown",
   "id": "09e927b3",
   "metadata": {},
   "source": [
    "### Overall Cancellation Rate"
   ]
  },
  {
   "cell_type": "code",
   "execution_count": 25,
   "id": "9b6e4ffe",
   "metadata": {},
   "outputs": [
    {
     "data": {
      "text/plain": [
       "City Hotel      79330\n",
       "Resort Hotel    40060\n",
       "Name: hotel, dtype: int64"
      ]
     },
     "execution_count": 25,
     "metadata": {},
     "output_type": "execute_result"
    }
   ],
   "source": [
    "hotels['hotel'].value_counts()"
   ]
  },
  {
   "cell_type": "code",
   "execution_count": 26,
   "id": "ae36a076",
   "metadata": {},
   "outputs": [
    {
     "data": {
      "text/plain": [
       "37.04"
      ]
     },
     "execution_count": 26,
     "metadata": {},
     "output_type": "execute_result"
    }
   ],
   "source": [
    "cancellation_rate = round(hotels['is_canceled'].sum()/len(hotels)*100,2)\n",
    "cancellation_rate"
   ]
  },
  {
   "cell_type": "markdown",
   "id": "d1ffc241",
   "metadata": {},
   "source": [
    "### Cancellation Rate by hotel type"
   ]
  },
  {
   "cell_type": "code",
   "execution_count": 27,
   "id": "422b649d",
   "metadata": {},
   "outputs": [
    {
     "data": {
      "text/plain": [
       "27.73"
      ]
     },
     "execution_count": 27,
     "metadata": {},
     "output_type": "execute_result"
    }
   ],
   "source": [
    "cancellation_rate_city_hotel = round(hotels[hotels['hotel'] == 'City Hotel']['is_canceled'].sum()/len(hotels['hotel']=='City Hotel')*100,2)\n",
    "cancellation_rate_city_hotel"
   ]
  },
  {
   "cell_type": "code",
   "execution_count": 28,
   "id": "28bca023",
   "metadata": {},
   "outputs": [
    {
     "data": {
      "text/plain": [
       "9.32"
      ]
     },
     "execution_count": 28,
     "metadata": {},
     "output_type": "execute_result"
    }
   ],
   "source": [
    "cancellation_rate_Resort_hotel = round(hotels[hotels['hotel'] == 'Resort Hotel']['is_canceled'].sum()/len(hotels['hotel']=='Resort Hotel')*100,2)\n",
    "cancellation_rate_Resort_hotel"
   ]
  },
  {
   "cell_type": "markdown",
   "id": "15c96244",
   "metadata": {},
   "source": [
    "### ADR Effects On Cancellation Rate"
   ]
  },
  {
   "cell_type": "code",
   "execution_count": 29,
   "id": "df632f00",
   "metadata": {},
   "outputs": [
    {
     "data": {
      "text/plain": [
       "104.96433316751087"
      ]
     },
     "execution_count": 29,
     "metadata": {},
     "output_type": "execute_result"
    }
   ],
   "source": [
    "hotels[hotels['is_canceled']==1]['adr'].mean()"
   ]
  },
  {
   "cell_type": "code",
   "execution_count": 30,
   "id": "371a755c",
   "metadata": {},
   "outputs": [
    {
     "data": {
      "text/plain": [
       "99.98769297288668"
      ]
     },
     "execution_count": 30,
     "metadata": {},
     "output_type": "execute_result"
    }
   ],
   "source": [
    "hotels[hotels['is_canceled']==0]['adr'].mean()"
   ]
  },
  {
   "cell_type": "markdown",
   "id": "48b61583",
   "metadata": {},
   "source": [
    "### Seasonality & Monthly Booking Trends"
   ]
  },
  {
   "cell_type": "code",
   "execution_count": 31,
   "id": "25864449",
   "metadata": {},
   "outputs": [
    {
     "data": {
      "image/png": "[encoded data removed]",
      "text/plain": [
       "<Figure size 1000x500 with 1 Axes>"
      ]
     },
     "metadata": {},
     "output_type": "display_data"
    }
   ],
   "source": [
    "monthly_counts = hotels['date'].dt.month_name().value_counts()\n",
    "\n",
    "plt.figure(figsize=(10,5))\n",
    "monthly_counts.plot(kind='bar')\n",
    "plt.ylabel('Number of Bookings')\n",
    "plt.xlabel('Month')\n",
    "plt.title('Number of Bookings per Month')\n",
    "plt.show()"
   ]
  },
  {
   "cell_type": "markdown",
   "id": "acc1679b",
   "metadata": {},
   "source": [
    "### 🧮 Count of Bookings by Market Segment"
   ]
  },
  {
   "cell_type": "code",
   "execution_count": 44,
   "id": "d1dc7bf1",
   "metadata": {},
   "outputs": [
    {
     "data": {
      "text/plain": [
       "array(['Direct', 'Corporate', 'Online TA', 'Offline TA/TO',\n",
       "       'Complementary', 'Groups', 'Undefined', 'Aviation'], dtype=object)"
      ]
     },
     "execution_count": 44,
     "metadata": {},
     "output_type": "execute_result"
    }
   ],
   "source": [
    "hotels['market_segment'].unique()"
   ]
  },
  {
   "cell_type": "code",
   "execution_count": 66,
   "id": "7be84947",
   "metadata": {},
   "outputs": [
    {
     "data": {
      "text/plain": [
       "Online TA        56477\n",
       "Offline TA/TO    24219\n",
       "Groups           19811\n",
       "Direct           12606\n",
       "Corporate         5295\n",
       "Complementary      743\n",
       "Aviation           237\n",
       "Undefined            2\n",
       "Name: market_segment, dtype: int64"
      ]
     },
     "execution_count": 66,
     "metadata": {},
     "output_type": "execute_result"
    }
   ],
   "source": [
    "Bookings_market_segment = hotels['market_segment'].value_counts()\n",
    "Bookings_market_segment"
   ]
  },
  {
   "cell_type": "code",
   "execution_count": 67,
   "id": "6eed5950",
   "metadata": {},
   "outputs": [
    {
     "data": {
      "image/png": "[encoded data removed]",
      "text/plain": [
       "<Figure size 640x480 with 1 Axes>"
      ]
     },
     "metadata": {},
     "output_type": "display_data"
    }
   ],
   "source": [
    "plt.figure()\n",
    "Bookings_market_segment.plot(kind=\"bar\")\n",
    "plt.title(\"Bookings By Market Segment\")\n",
    "plt.xlabel(\"Market Segment\")\n",
    "plt.ylabel(\"Count of Bookings\")\n",
    "plt.show()"
   ]
  },
  {
   "cell_type": "markdown",
   "id": "5e3eec65",
   "metadata": {},
   "source": [
    "### 💼 Revenue Generated per Segment"
   ]
  },
  {
   "cell_type": "code",
   "execution_count": 89,
   "id": "2b99ac88",
   "metadata": {},
   "outputs": [
    {
     "name": "stderr",
     "output_type": "stream",
     "text": [
      "C:\\Users\\ys274\\AppData\\Local\\Temp\\ipykernel_12724\\2065230231.py:1: FutureWarning: The default value of numeric_only in DataFrameGroupBy.sum is deprecated. In a future version, numeric_only will default to False. Either specify numeric_only or select only columns which should be valid for the function.\n",
      "  revenue_by_market_segment = hotels.groupby(\"market_segment\").sum()['total_spend']\n"
     ]
    },
    {
     "data": {
      "text/plain": [
       "market_segment\n",
       "Aviation            87446.36\n",
       "Complementary        5082.52\n",
       "Corporate          774295.26\n",
       "Direct            5093028.39\n",
       "Groups            4669636.74\n",
       "Offline TA/TO     8151912.73\n",
       "Online TA        23942047.53\n",
       "Undefined              48.00\n",
       "Name: total_spend, dtype: float64"
      ]
     },
     "execution_count": 89,
     "metadata": {},
     "output_type": "execute_result"
    }
   ],
   "source": [
    "revenue_by_market_segment = hotels.groupby(\"market_segment\").sum()['total_spend']\n",
    "revenue_by_market_segment"
   ]
  },
  {
   "cell_type": "code",
   "execution_count": 90,
   "id": "69513ab4",
   "metadata": {},
   "outputs": [
    {
     "data": {
      "image/png": "[encoded data removed]",
      "text/plain": [
       "<Figure size 640x480 with 1 Axes>"
      ]
     },
     "metadata": {},
     "output_type": "display_data"
    }
   ],
   "source": [
    "plt.figure()\n",
    "revenue_by_market_segment.plot(kind='barh')\n",
    "plt.tight_layout()\n",
    "plt.title('Revenue Distribution by Market Segment')\n",
    "plt.show()"
   ]
  },
  {
   "cell_type": "code",
   "execution_count": null,
   "id": "714513dc",
   "metadata": {},
   "outputs": [],
   "source": []
  }
 ],
 "metadata": {
  "kernelspec": {
   "display_name": "Python 3 (ipykernel)",
   "language": "python",
   "name": "python3"
  },
  "language_info": {
   "codemirror_mode": {
    "name": "ipython",
    "version": 3
   },
   "file_extension": ".py",
   "mimetype": "text/x-python",
   "name": "python",
   "nbconvert_exporter": "python",
   "pygments_lexer": "ipython3",
   "version": "3.10.9"
  }
 },
 "nbformat": 4,
 "nbformat_minor": 5
}
